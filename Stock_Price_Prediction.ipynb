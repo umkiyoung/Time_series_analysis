{
  "nbformat": 4,
  "nbformat_minor": 0,
  "metadata": {
    "colab": {
      "provenance": [],
      "include_colab_link": true
    },
    "kernelspec": {
      "name": "python3",
      "display_name": "Python 3"
    },
    "language_info": {
      "name": "python"
    }
  },
  "cells": [
    {
      "cell_type": "markdown",
      "metadata": {
        "id": "view-in-github",
        "colab_type": "text"
      },
      "source": [
        "<a href=\"https://colab.research.google.com/github/umkiyoung/Time_series_analysis/blob/main/Stock_Price_Prediction.ipynb\" target=\"_parent\"><img src=\"https://colab.research.google.com/assets/colab-badge.svg\" alt=\"Open In Colab\"/></a>"
      ]
    },
    {
      "cell_type": "markdown",
      "source": [
        "## 주식 데이터 불러오기"
      ],
      "metadata": {
        "id": "HsQcLlIM3QlI"
      }
    },
    {
      "cell_type": "code",
      "execution_count": null,
      "metadata": {
        "id": "DIwVbZBbbPrk",
        "colab": {
          "base_uri": "https://localhost:8080/"
        },
        "outputId": "921c7f4d-a1b0-41aa-bf79-57c94b652ee6"
      },
      "outputs": [
        {
          "output_type": "stream",
          "name": "stdout",
          "text": [
            "Looking in indexes: https://pypi.org/simple, https://us-python.pkg.dev/colab-wheels/public/simple/\n",
            "Requirement already satisfied: finance-datareader in /usr/local/lib/python3.10/dist-packages (0.9.50)\n",
            "Requirement already satisfied: requests-file in /usr/local/lib/python3.10/dist-packages (from finance-datareader) (1.5.1)\n",
            "Requirement already satisfied: pandas>=0.19.2 in /usr/local/lib/python3.10/dist-packages (from finance-datareader) (1.5.3)\n",
            "Requirement already satisfied: requests>=2.3.0 in /usr/local/lib/python3.10/dist-packages (from finance-datareader) (2.27.1)\n",
            "Requirement already satisfied: tqdm in /usr/local/lib/python3.10/dist-packages (from finance-datareader) (4.65.0)\n",
            "Requirement already satisfied: lxml in /usr/local/lib/python3.10/dist-packages (from finance-datareader) (4.9.2)\n",
            "Requirement already satisfied: pytz>=2020.1 in /usr/local/lib/python3.10/dist-packages (from pandas>=0.19.2->finance-datareader) (2022.7.1)\n",
            "Requirement already satisfied: numpy>=1.21.0 in /usr/local/lib/python3.10/dist-packages (from pandas>=0.19.2->finance-datareader) (1.22.4)\n",
            "Requirement already satisfied: python-dateutil>=2.8.1 in /usr/local/lib/python3.10/dist-packages (from pandas>=0.19.2->finance-datareader) (2.8.2)\n",
            "Requirement already satisfied: idna<4,>=2.5 in /usr/local/lib/python3.10/dist-packages (from requests>=2.3.0->finance-datareader) (3.4)\n",
            "Requirement already satisfied: charset-normalizer~=2.0.0 in /usr/local/lib/python3.10/dist-packages (from requests>=2.3.0->finance-datareader) (2.0.12)\n",
            "Requirement already satisfied: certifi>=2017.4.17 in /usr/local/lib/python3.10/dist-packages (from requests>=2.3.0->finance-datareader) (2022.12.7)\n",
            "Requirement already satisfied: urllib3<1.27,>=1.21.1 in /usr/local/lib/python3.10/dist-packages (from requests>=2.3.0->finance-datareader) (1.26.15)\n",
            "Requirement already satisfied: six in /usr/local/lib/python3.10/dist-packages (from requests-file->finance-datareader) (1.16.0)\n"
          ]
        }
      ],
      "source": [
        "!pip install finance-datareader"
      ]
    },
    {
      "cell_type": "code",
      "execution_count": null,
      "metadata": {
        "id": "Ma-bWB16bPrl"
      },
      "outputs": [],
      "source": [
        "import FinanceDataReader as fdr"
      ]
    },
    {
      "cell_type": "code",
      "execution_count": null,
      "metadata": {
        "id": "W_oG_zzkbPrl",
        "colab": {
          "base_uri": "https://localhost:8080/"
        },
        "outputId": "f3ea59ce-daab-463a-e429-eba5b8cf7521"
      },
      "outputs": [
        {
          "output_type": "execute_result",
          "data": {
            "text/plain": [
              "<bound method NDFrame.tail of                   Open        High         Low       Close   Adj Close  \\\n",
              "Date                                                                     \n",
              "2022-11-01   95.449997   96.029999   90.370003   90.470001   90.470001   \n",
              "2022-11-02   90.940002   91.180000   86.879997   86.970001   86.970001   \n",
              "2022-11-03   86.320000   86.519997   83.339996   83.430000   83.430000   \n",
              "2022-11-04   85.400002   86.639999   83.709999   86.580002   86.580002   \n",
              "2022-11-07   87.279999   88.900002   86.849998   88.489998   88.489998   \n",
              "...                ...         ...         ...         ...         ...   \n",
              "2023-04-14  106.889999  108.940002  106.839996  108.870003  108.870003   \n",
              "2023-04-17  104.660004  106.160004  104.519997  105.970001  105.970001   \n",
              "2023-04-18  106.489998  106.540001  104.070000  104.500000  104.500000   \n",
              "2023-04-19  103.580002  104.980003  103.070000  104.180000  104.180000   \n",
              "2023-04-20  103.910004  106.250000  103.870003  105.290001  105.290001   \n",
              "\n",
              "              Volume  \n",
              "Date                  \n",
              "2022-11-01  47161400  \n",
              "2022-11-02  57038300  \n",
              "2022-11-03  61288000  \n",
              "2022-11-04  51124900  \n",
              "2022-11-07  34078900  \n",
              "...              ...  \n",
              "2023-04-14  26547800  \n",
              "2023-04-17  37571200  \n",
              "2023-04-18  26596400  \n",
              "2023-04-19  20905700  \n",
              "2023-04-20  27820800  \n",
              "\n",
              "[117 rows x 6 columns]>"
            ]
          },
          "metadata": {},
          "execution_count": 3
        }
      ],
      "source": [
        "# 삼성전자(005930), 카카오 (035720), 하이브(352820), 더네이쳐홀딩스(298540), 코엔텍(029960)\n",
        "stock = fdr.DataReader('005930', '2022-11-01', '2023-04-21')\n",
        "stock.tail"
      ]
    },
    {
      "cell_type": "markdown",
      "source": [
        "## \bNMAE"
      ],
      "metadata": {
        "id": "-EjXVXBD5RDs"
      }
    },
    {
      "cell_type": "code",
      "source": [
        "import pandas as pd\n",
        "import numpy as np"
      ],
      "metadata": {
        "id": "dbAcAImABvhW"
      },
      "execution_count": null,
      "outputs": []
    },
    {
      "cell_type": "code",
      "source": [
        "stocks = []\n",
        "for i in ['005930', '035720', '352820', '298540', '029960'] : \n",
        "    stock = fdr.DataReader(i, '2023-04-24', '2023-04-28')\n",
        "    for j in range(5) :\n",
        "        stocks.append(stock['Close'][j])"
      ],
      "metadata": {
        "id": "WlQWf4Pd5Hzs"
      },
      "execution_count": null,
      "outputs": []
    },
    {
      "cell_type": "code",
      "source": [
        "submission = pd.DataFrame()\n",
        "submission['Date'] = [20230424,20230425,20230426,20230427,20230428]\n",
        "submission['samsung_real'] = stocks[:5]\n",
        "submission['kakao_real'] = stocks[5:10]\n",
        "submission['hive_real'] = stocks[10:15]\n",
        "submission['nature_real'] = stocks[15:20]\n",
        "submission['koen_real'] = stocks[20:25]\n",
        "\n",
        "submission"
      ],
      "metadata": {
        "colab": {
          "base_uri": "https://localhost:8080/",
          "height": 206
        },
        "id": "hvZ-Lk6y8B5m",
        "outputId": "8fddf674-7278-4bf7-ad14-f50025c0fb23"
      },
      "execution_count": null,
      "outputs": [
        {
          "output_type": "execute_result",
          "data": {
            "text/plain": [
              "       Date  samsung_real  kakao_real  hive_real  nature_real  koen_real\n",
              "0  20230424         65200       57200     259000        28000       7170\n",
              "1  20230425         63600       56000     260500        27750       7080\n",
              "2  20230426         64100       56500     265000        28800       7100\n",
              "3  20230427         64600       55800     264000        28000       7110\n",
              "4  20230428         65500       58100     270000        28250       7070"
            ],
            "text/html": [
              "\n",
              "  <div id=\"df-2906336b-3a57-4ab5-abf7-c98580606f8f\">\n",
              "    <div class=\"colab-df-container\">\n",
              "      <div>\n",
              "<style scoped>\n",
              "    .dataframe tbody tr th:only-of-type {\n",
              "        vertical-align: middle;\n",
              "    }\n",
              "\n",
              "    .dataframe tbody tr th {\n",
              "        vertical-align: top;\n",
              "    }\n",
              "\n",
              "    .dataframe thead th {\n",
              "        text-align: right;\n",
              "    }\n",
              "</style>\n",
              "<table border=\"1\" class=\"dataframe\">\n",
              "  <thead>\n",
              "    <tr style=\"text-align: right;\">\n",
              "      <th></th>\n",
              "      <th>Date</th>\n",
              "      <th>samsung_real</th>\n",
              "      <th>kakao_real</th>\n",
              "      <th>hive_real</th>\n",
              "      <th>nature_real</th>\n",
              "      <th>koen_real</th>\n",
              "    </tr>\n",
              "  </thead>\n",
              "  <tbody>\n",
              "    <tr>\n",
              "      <th>0</th>\n",
              "      <td>20230424</td>\n",
              "      <td>65200</td>\n",
              "      <td>57200</td>\n",
              "      <td>259000</td>\n",
              "      <td>28000</td>\n",
              "      <td>7170</td>\n",
              "    </tr>\n",
              "    <tr>\n",
              "      <th>1</th>\n",
              "      <td>20230425</td>\n",
              "      <td>63600</td>\n",
              "      <td>56000</td>\n",
              "      <td>260500</td>\n",
              "      <td>27750</td>\n",
              "      <td>7080</td>\n",
              "    </tr>\n",
              "    <tr>\n",
              "      <th>2</th>\n",
              "      <td>20230426</td>\n",
              "      <td>64100</td>\n",
              "      <td>56500</td>\n",
              "      <td>265000</td>\n",
              "      <td>28800</td>\n",
              "      <td>7100</td>\n",
              "    </tr>\n",
              "    <tr>\n",
              "      <th>3</th>\n",
              "      <td>20230427</td>\n",
              "      <td>64600</td>\n",
              "      <td>55800</td>\n",
              "      <td>264000</td>\n",
              "      <td>28000</td>\n",
              "      <td>7110</td>\n",
              "    </tr>\n",
              "    <tr>\n",
              "      <th>4</th>\n",
              "      <td>20230428</td>\n",
              "      <td>65500</td>\n",
              "      <td>58100</td>\n",
              "      <td>270000</td>\n",
              "      <td>28250</td>\n",
              "      <td>7070</td>\n",
              "    </tr>\n",
              "  </tbody>\n",
              "</table>\n",
              "</div>\n",
              "      <button class=\"colab-df-convert\" onclick=\"convertToInteractive('df-2906336b-3a57-4ab5-abf7-c98580606f8f')\"\n",
              "              title=\"Convert this dataframe to an interactive table.\"\n",
              "              style=\"display:none;\">\n",
              "        \n",
              "  <svg xmlns=\"http://www.w3.org/2000/svg\" height=\"24px\"viewBox=\"0 0 24 24\"\n",
              "       width=\"24px\">\n",
              "    <path d=\"M0 0h24v24H0V0z\" fill=\"none\"/>\n",
              "    <path d=\"M18.56 5.44l.94 2.06.94-2.06 2.06-.94-2.06-.94-.94-2.06-.94 2.06-2.06.94zm-11 1L8.5 8.5l.94-2.06 2.06-.94-2.06-.94L8.5 2.5l-.94 2.06-2.06.94zm10 10l.94 2.06.94-2.06 2.06-.94-2.06-.94-.94-2.06-.94 2.06-2.06.94z\"/><path d=\"M17.41 7.96l-1.37-1.37c-.4-.4-.92-.59-1.43-.59-.52 0-1.04.2-1.43.59L10.3 9.45l-7.72 7.72c-.78.78-.78 2.05 0 2.83L4 21.41c.39.39.9.59 1.41.59.51 0 1.02-.2 1.41-.59l7.78-7.78 2.81-2.81c.8-.78.8-2.07 0-2.86zM5.41 20L4 18.59l7.72-7.72 1.47 1.35L5.41 20z\"/>\n",
              "  </svg>\n",
              "      </button>\n",
              "      \n",
              "  <style>\n",
              "    .colab-df-container {\n",
              "      display:flex;\n",
              "      flex-wrap:wrap;\n",
              "      gap: 12px;\n",
              "    }\n",
              "\n",
              "    .colab-df-convert {\n",
              "      background-color: #E8F0FE;\n",
              "      border: none;\n",
              "      border-radius: 50%;\n",
              "      cursor: pointer;\n",
              "      display: none;\n",
              "      fill: #1967D2;\n",
              "      height: 32px;\n",
              "      padding: 0 0 0 0;\n",
              "      width: 32px;\n",
              "    }\n",
              "\n",
              "    .colab-df-convert:hover {\n",
              "      background-color: #E2EBFA;\n",
              "      box-shadow: 0px 1px 2px rgba(60, 64, 67, 0.3), 0px 1px 3px 1px rgba(60, 64, 67, 0.15);\n",
              "      fill: #174EA6;\n",
              "    }\n",
              "\n",
              "    [theme=dark] .colab-df-convert {\n",
              "      background-color: #3B4455;\n",
              "      fill: #D2E3FC;\n",
              "    }\n",
              "\n",
              "    [theme=dark] .colab-df-convert:hover {\n",
              "      background-color: #434B5C;\n",
              "      box-shadow: 0px 1px 3px 1px rgba(0, 0, 0, 0.15);\n",
              "      filter: drop-shadow(0px 1px 2px rgba(0, 0, 0, 0.3));\n",
              "      fill: #FFFFFF;\n",
              "    }\n",
              "  </style>\n",
              "\n",
              "      <script>\n",
              "        const buttonEl =\n",
              "          document.querySelector('#df-2906336b-3a57-4ab5-abf7-c98580606f8f button.colab-df-convert');\n",
              "        buttonEl.style.display =\n",
              "          google.colab.kernel.accessAllowed ? 'block' : 'none';\n",
              "\n",
              "        async function convertToInteractive(key) {\n",
              "          const element = document.querySelector('#df-2906336b-3a57-4ab5-abf7-c98580606f8f');\n",
              "          const dataTable =\n",
              "            await google.colab.kernel.invokeFunction('convertToInteractive',\n",
              "                                                     [key], {});\n",
              "          if (!dataTable) return;\n",
              "\n",
              "          const docLinkHtml = 'Like what you see? Visit the ' +\n",
              "            '<a target=\"_blank\" href=https://colab.research.google.com/notebooks/data_table.ipynb>data table notebook</a>'\n",
              "            + ' to learn more about interactive tables.';\n",
              "          element.innerHTML = '';\n",
              "          dataTable['output_type'] = 'display_data';\n",
              "          await google.colab.output.renderOutput(dataTable, element);\n",
              "          const docLink = document.createElement('div');\n",
              "          docLink.innerHTML = docLinkHtml;\n",
              "          element.appendChild(docLink);\n",
              "        }\n",
              "      </script>\n",
              "    </div>\n",
              "  </div>\n",
              "  "
            ]
          },
          "metadata": {},
          "execution_count": 9
        }
      ]
    },
    {
      "cell_type": "code",
      "source": [
        "# 오른쪽 항은 예측값을 넣으시면 됩니다!\n",
        "## 아래의 오른쪽 항은 산식 산출 확인을 위해 임의로 넣은 값입니다!\n",
        "\n",
        "submission['samsung_forecast'] = [65200] * 5\n",
        "submission['kakao_forecast'] = [57200] * 5\n",
        "submission['hive_forecast'] = [259000] * 5\n",
        "submission['nature_forecast'] = [28000] * 5\n",
        "submission['koen_forecast'] = [7170] * 5\n",
        "\n",
        "## 이 아래는 수정 사항 없습니다.\n",
        "\n",
        "a = np.sum(np.abs(submission['samsung_real']-submission['samsung_forecast']))/np.sum(submission['samsung_real'])\n",
        "b = np.sum(np.abs(submission['kakao_real']-submission['kakao_forecast']))/np.sum(submission['kakao_real'])\n",
        "c = np.sum(np.abs(submission['hive_real']-submission['hive_forecast']))/np.sum(submission['hive_real'])\n",
        "d = np.sum(np.abs(submission['nature_real']-submission['nature_forecast']))/np.sum(submission['nature_real'])\n",
        "e = np.sum(np.abs(submission['koen_real']-submission['koen_forecast']))/np.sum(submission['koen_real'])\n",
        "\n",
        "final_score = np.mean([a,b,c,d,e]) * 100\n",
        "final_score"
      ],
      "metadata": {
        "colab": {
          "base_uri": "https://localhost:8080/"
        },
        "id": "C-HlGZ_l_CkK",
        "outputId": "70ceedbf-9374-4954-eef2-866e82a45459"
      },
      "execution_count": null,
      "outputs": [
        {
          "output_type": "execute_result",
          "data": {
            "text/plain": [
              "1.240356275844318"
            ]
          },
          "metadata": {},
          "execution_count": 14
        }
      ]
    }
  ]
}