{
  "cells": [
    {
      "attachments": {},
      "cell_type": "markdown",
      "metadata": {
        "colab_type": "text",
        "id": "view-in-github"
      },
      "source": [
        "<a href=\"https://colab.research.google.com/github/umkiyoung/Time_series_analysis/blob/main/Stock_Price_Prediction.ipynb\" target=\"_parent\"><img src=\"https://colab.research.google.com/assets/colab-badge.svg\" alt=\"Open In Colab\"/></a>"
      ]
    },
    {
      "attachments": {},
      "cell_type": "markdown",
      "metadata": {
        "id": "HsQcLlIM3QlI"
      },
      "source": [
        "## DataLoading"
      ]
    },
    {
      "cell_type": "code",
      "execution_count": 8,
      "metadata": {
        "colab": {
          "base_uri": "https://localhost:8080/"
        },
        "id": "DIwVbZBbbPrk",
        "outputId": "921c7f4d-a1b0-41aa-bf79-57c94b652ee6"
      },
      "outputs": [
        {
          "name": "stdout",
          "output_type": "stream",
          "text": [
            "Requirement already satisfied: finance-datareader in c:\\users\\se99a\\anaconda3\\lib\\site-packages (0.9.50)\n",
            "Requirement already satisfied: tqdm in c:\\users\\se99a\\anaconda3\\lib\\site-packages (from finance-datareader) (4.64.1)\n",
            "Requirement already satisfied: lxml in c:\\users\\se99a\\anaconda3\\lib\\site-packages (from finance-datareader) (4.9.1)\n",
            "Requirement already satisfied: requests-file in c:\\users\\se99a\\anaconda3\\lib\\site-packages (from finance-datareader) (1.5.1)\n",
            "Requirement already satisfied: pandas>=0.19.2 in c:\\users\\se99a\\anaconda3\\lib\\site-packages (from finance-datareader) (1.5.3)\n",
            "Requirement already satisfied: requests>=2.3.0 in c:\\users\\se99a\\anaconda3\\lib\\site-packages (from finance-datareader) (2.28.1)\n",
            "Requirement already satisfied: python-dateutil>=2.8.1 in c:\\users\\se99a\\appdata\\roaming\\python\\python310\\site-packages (from pandas>=0.19.2->finance-datareader) (2.8.2)\n",
            "Requirement already satisfied: numpy>=1.21.0 in c:\\users\\se99a\\anaconda3\\lib\\site-packages (from pandas>=0.19.2->finance-datareader) (1.23.5)\n",
            "Requirement already satisfied: pytz>=2020.1 in c:\\users\\se99a\\anaconda3\\lib\\site-packages (from pandas>=0.19.2->finance-datareader) (2022.7)\n",
            "Requirement already satisfied: certifi>=2017.4.17 in c:\\users\\se99a\\anaconda3\\lib\\site-packages (from requests>=2.3.0->finance-datareader) (2023.5.7)\n",
            "Requirement already satisfied: urllib3<1.27,>=1.21.1 in c:\\users\\se99a\\anaconda3\\lib\\site-packages (from requests>=2.3.0->finance-datareader) (1.26.14)\n",
            "Requirement already satisfied: charset-normalizer<3,>=2 in c:\\users\\se99a\\anaconda3\\lib\\site-packages (from requests>=2.3.0->finance-datareader) (2.0.4)\n",
            "Requirement already satisfied: idna<4,>=2.5 in c:\\users\\se99a\\anaconda3\\lib\\site-packages (from requests>=2.3.0->finance-datareader) (3.4)\n",
            "Requirement already satisfied: six in c:\\users\\se99a\\appdata\\roaming\\python\\python310\\site-packages (from requests-file->finance-datareader) (1.16.0)\n",
            "Requirement already satisfied: colorama in c:\\users\\se99a\\appdata\\roaming\\python\\python310\\site-packages (from tqdm->finance-datareader) (0.4.6)\n",
            "Note: you may need to restart the kernel to use updated packages.\n",
            "Collecting pmdarima\n",
            "  Downloading pmdarima-2.0.3-cp310-cp310-win_amd64.whl (569 kB)\n",
            "     -------------------------------------- 569.7/569.7 kB 7.2 MB/s eta 0:00:00\n",
            "Requirement already satisfied: scipy>=1.3.2 in c:\\users\\se99a\\anaconda3\\lib\\site-packages (from pmdarima) (1.10.0)\n",
            "Requirement already satisfied: setuptools!=50.0.0,>=38.6.0 in c:\\users\\se99a\\anaconda3\\lib\\site-packages (from pmdarima) (65.6.3)\n",
            "Requirement already satisfied: urllib3 in c:\\users\\se99a\\anaconda3\\lib\\site-packages (from pmdarima) (1.26.14)\n",
            "Requirement already satisfied: statsmodels>=0.13.2 in c:\\users\\se99a\\anaconda3\\lib\\site-packages (from pmdarima) (0.13.5)\n",
            "Requirement already satisfied: numpy>=1.21.2 in c:\\users\\se99a\\anaconda3\\lib\\site-packages (from pmdarima) (1.23.5)\n",
            "Requirement already satisfied: scikit-learn>=0.22 in c:\\users\\se99a\\anaconda3\\lib\\site-packages (from pmdarima) (1.2.1)\n",
            "Collecting Cython!=0.29.18,!=0.29.31,>=0.29\n",
            "  Downloading Cython-0.29.34-py2.py3-none-any.whl (988 kB)\n",
            "     ------------------------------------- 988.1/988.1 kB 15.5 MB/s eta 0:00:00\n",
            "Requirement already satisfied: pandas>=0.19 in c:\\users\\se99a\\anaconda3\\lib\\site-packages (from pmdarima) (1.5.3)\n",
            "Requirement already satisfied: joblib>=0.11 in c:\\users\\se99a\\anaconda3\\lib\\site-packages (from pmdarima) (1.1.1)\n",
            "Requirement already satisfied: pytz>=2020.1 in c:\\users\\se99a\\anaconda3\\lib\\site-packages (from pandas>=0.19->pmdarima) (2022.7)\n",
            "Requirement already satisfied: python-dateutil>=2.8.1 in c:\\users\\se99a\\appdata\\roaming\\python\\python310\\site-packages (from pandas>=0.19->pmdarima) (2.8.2)\n",
            "Requirement already satisfied: threadpoolctl>=2.0.0 in c:\\users\\se99a\\anaconda3\\lib\\site-packages (from scikit-learn>=0.22->pmdarima) (2.2.0)\n",
            "Requirement already satisfied: patsy>=0.5.2 in c:\\users\\se99a\\anaconda3\\lib\\site-packages (from statsmodels>=0.13.2->pmdarima) (0.5.3)\n",
            "Requirement already satisfied: packaging>=21.3 in c:\\users\\se99a\\appdata\\roaming\\python\\python310\\site-packages (from statsmodels>=0.13.2->pmdarima) (23.0)\n",
            "Requirement already satisfied: six in c:\\users\\se99a\\appdata\\roaming\\python\\python310\\site-packages (from patsy>=0.5.2->statsmodels>=0.13.2->pmdarima) (1.16.0)\n",
            "Installing collected packages: Cython, pmdarima\n",
            "Successfully installed Cython-0.29.34 pmdarima-2.0.3\n",
            "Note: you may need to restart the kernel to use updated packages.\n"
          ]
        }
      ],
      "source": [
        "%pip install finance-datareader\n",
        "%pip install pmdarima\n"
      ]
    },
    {
      "cell_type": "code",
      "execution_count": 64,
      "metadata": {
        "id": "Ma-bWB16bPrl"
      },
      "outputs": [],
      "source": [
        "import FinanceDataReader as fdr\n",
        "from matplotlib import pyplot as plt\n",
        "import pandas as pd\n",
        "import numpy as np"
      ]
    },
    {
      "cell_type": "code",
      "execution_count": 73,
      "metadata": {
        "colab": {
          "base_uri": "https://localhost:8080/"
        },
        "id": "W_oG_zzkbPrl",
        "outputId": "f3ea59ce-daab-463a-e429-eba5b8cf7521"
      },
      "outputs": [
        {
          "data": {
            "text/html": [
              "<div>\n",
              "<style scoped>\n",
              "    .dataframe tbody tr th:only-of-type {\n",
              "        vertical-align: middle;\n",
              "    }\n",
              "\n",
              "    .dataframe tbody tr th {\n",
              "        vertical-align: top;\n",
              "    }\n",
              "\n",
              "    .dataframe thead th {\n",
              "        text-align: right;\n",
              "    }\n",
              "</style>\n",
              "<table border=\"1\" class=\"dataframe\">\n",
              "  <thead>\n",
              "    <tr style=\"text-align: right;\">\n",
              "      <th></th>\n",
              "      <th>삼성전자</th>\n",
              "      <th>카카오</th>\n",
              "      <th>하이브</th>\n",
              "      <th>더네이쳐홀딩스</th>\n",
              "      <th>코엔텍</th>\n",
              "    </tr>\n",
              "  </thead>\n",
              "  <tbody>\n",
              "    <tr>\n",
              "      <th>2022-11-01 00:00:00</th>\n",
              "      <td>60000</td>\n",
              "      <td>50700</td>\n",
              "      <td>122000</td>\n",
              "      <td>27250</td>\n",
              "      <td>7990</td>\n",
              "    </tr>\n",
              "    <tr>\n",
              "      <th>2022-11-02 00:00:00</th>\n",
              "      <td>59600</td>\n",
              "      <td>52300</td>\n",
              "      <td>127000</td>\n",
              "      <td>27350</td>\n",
              "      <td>8030</td>\n",
              "    </tr>\n",
              "    <tr>\n",
              "      <th>2022-11-03 00:00:00</th>\n",
              "      <td>59200</td>\n",
              "      <td>50100</td>\n",
              "      <td>124500</td>\n",
              "      <td>27650</td>\n",
              "      <td>8040</td>\n",
              "    </tr>\n",
              "    <tr>\n",
              "      <th>2022-11-04 00:00:00</th>\n",
              "      <td>59400</td>\n",
              "      <td>50300</td>\n",
              "      <td>122500</td>\n",
              "      <td>28050</td>\n",
              "      <td>7940</td>\n",
              "    </tr>\n",
              "    <tr>\n",
              "      <th>2022-11-07 00:00:00</th>\n",
              "      <td>60200</td>\n",
              "      <td>49850</td>\n",
              "      <td>123500</td>\n",
              "      <td>27800</td>\n",
              "      <td>7900</td>\n",
              "    </tr>\n",
              "  </tbody>\n",
              "</table>\n",
              "</div>"
            ],
            "text/plain": [
              "                      삼성전자    카카오     하이브  더네이쳐홀딩스   코엔텍\n",
              "2022-11-01 00:00:00  60000  50700  122000    27250  7990\n",
              "2022-11-02 00:00:00  59600  52300  127000    27350  8030\n",
              "2022-11-03 00:00:00  59200  50100  124500    27650  8040\n",
              "2022-11-04 00:00:00  59400  50300  122500    28050  7940\n",
              "2022-11-07 00:00:00  60200  49850  123500    27800  7900"
            ]
          },
          "execution_count": 73,
          "metadata": {},
          "output_type": "execute_result"
        }
      ],
      "source": [
        "# 삼성전자(005930), 카카오 (035720), 하이브(352820), 더네이쳐홀딩스(298540), 코엔텍(029960)\n",
        "START_DATE = '2022-11-01'\n",
        "END_DATE = '2023-04-21'\n",
        "TICKER_LIST = ['005930', '035720', '352820', '298540', '029960']\n",
        "COLUMNS_NAME = ['삼성전자', '카카오', '하이브', '더네이쳐홀딩스', '코엔텍']\n",
        "PREIDCTION_DATE = [20230424,20230425,20230426,20230427,20230428]\n",
        "\n",
        "def train_dataset_loading(ticker_list, columns_name, start_date, end_date):\n",
        "    dt = pd.DataFrame()\n",
        "    for i in ticker_list:\n",
        "        stock = fdr.DataReader(i, start_date, end_date)\n",
        "        stock_close = stock['Close']\n",
        "        dt = pd.concat([dt, stock_close], axis=1)\n",
        "    dt.columns = columns_name\n",
        "    return dt\n",
        "\n",
        "\n",
        "train_dataset = train_dataset_loading(TICKER_LIST,COLUMNS_NAME, START_DATE, END_DATE)\n",
        "train_dataset.head()"
      ]
    },
    {
      "attachments": {},
      "cell_type": "markdown",
      "metadata": {},
      "source": [
        "AutoArima"
      ]
    },
    {
      "cell_type": "code",
      "execution_count": 75,
      "metadata": {},
      "outputs": [
        {
          "name": "stdout",
          "output_type": "stream",
          "text": [
            "Performing stepwise search to minimize aic\n",
            " ARIMA(2,1,2)(0,0,0)[0] intercept   : AIC=1975.422, Time=0.43 sec\n",
            " ARIMA(0,1,0)(0,0,0)[0] intercept   : AIC=1968.959, Time=0.01 sec\n",
            " ARIMA(1,1,0)(0,0,0)[0] intercept   : AIC=1970.023, Time=0.02 sec\n",
            " ARIMA(0,1,1)(0,0,0)[0] intercept   : AIC=1969.987, Time=0.02 sec\n",
            " ARIMA(0,1,0)(0,0,0)[0]             : AIC=1967.277, Time=0.01 sec\n",
            " ARIMA(1,1,1)(0,0,0)[0] intercept   : AIC=1971.803, Time=0.06 sec\n",
            "\n",
            "Best model:  ARIMA(0,1,0)(0,0,0)[0]          \n",
            "Total fit time: 0.563 seconds\n",
            "Performing stepwise search to minimize aic\n"
          ]
        },
        {
          "name": "stderr",
          "output_type": "stream",
          "text": [
            "c:\\Users\\se99a\\anaconda3\\lib\\site-packages\\statsmodels\\tsa\\base\\tsa_model.py:834: ValueWarning: No supported index is available. Prediction results will be given with an integer index beginning at `start`.\n",
            "  return get_prediction_index(\n"
          ]
        },
        {
          "name": "stdout",
          "output_type": "stream",
          "text": [
            " ARIMA(2,1,2)(0,0,0)[0] intercept   : AIC=2099.997, Time=0.26 sec\n",
            " ARIMA(0,1,0)(0,0,0)[0] intercept   : AIC=2090.876, Time=0.06 sec\n",
            " ARIMA(1,1,0)(0,0,0)[0] intercept   : AIC=2092.749, Time=0.05 sec\n",
            " ARIMA(0,1,1)(0,0,0)[0] intercept   : AIC=2092.739, Time=0.04 sec\n",
            " ARIMA(0,1,0)(0,0,0)[0]             : AIC=2089.060, Time=0.01 sec\n",
            " ARIMA(1,1,1)(0,0,0)[0] intercept   : AIC=2093.709, Time=0.08 sec\n",
            "\n",
            "Best model:  ARIMA(0,1,0)(0,0,0)[0]          \n",
            "Total fit time: 0.518 seconds\n",
            "Performing stepwise search to minimize aic\n"
          ]
        },
        {
          "name": "stderr",
          "output_type": "stream",
          "text": [
            "c:\\Users\\se99a\\anaconda3\\lib\\site-packages\\statsmodels\\tsa\\base\\tsa_model.py:834: ValueWarning: No supported index is available. Prediction results will be given with an integer index beginning at `start`.\n",
            "  return get_prediction_index(\n"
          ]
        },
        {
          "name": "stdout",
          "output_type": "stream",
          "text": [
            " ARIMA(2,1,2)(0,0,0)[0] intercept   : AIC=inf, Time=0.22 sec\n",
            " ARIMA(0,1,0)(0,0,0)[0] intercept   : AIC=2389.830, Time=0.03 sec\n",
            " ARIMA(1,1,0)(0,0,0)[0] intercept   : AIC=2391.813, Time=0.12 sec\n",
            " ARIMA(0,1,1)(0,0,0)[0] intercept   : AIC=2391.863, Time=0.02 sec\n",
            " ARIMA(0,1,0)(0,0,0)[0]             : AIC=2392.362, Time=0.01 sec\n",
            " ARIMA(1,1,1)(0,0,0)[0] intercept   : AIC=2393.765, Time=0.12 sec\n",
            "\n",
            "Best model:  ARIMA(0,1,0)(0,0,0)[0] intercept\n",
            "Total fit time: 0.520 seconds\n",
            "Performing stepwise search to minimize aic\n"
          ]
        },
        {
          "name": "stderr",
          "output_type": "stream",
          "text": [
            "c:\\Users\\se99a\\anaconda3\\lib\\site-packages\\statsmodels\\tsa\\base\\tsa_model.py:834: ValueWarning: No supported index is available. Prediction results will be given with an integer index beginning at `start`.\n",
            "  return get_prediction_index(\n"
          ]
        },
        {
          "name": "stdout",
          "output_type": "stream",
          "text": [
            " ARIMA(2,1,2)(0,0,0)[0] intercept   : AIC=inf, Time=0.36 sec\n",
            " ARIMA(0,1,0)(0,0,0)[0] intercept   : AIC=1911.851, Time=0.02 sec\n",
            " ARIMA(1,1,0)(0,0,0)[0] intercept   : AIC=1913.854, Time=0.09 sec\n",
            " ARIMA(0,1,1)(0,0,0)[0] intercept   : AIC=1913.908, Time=0.03 sec\n",
            " ARIMA(0,1,0)(0,0,0)[0]             : AIC=1909.909, Time=0.02 sec\n",
            " ARIMA(1,1,1)(0,0,0)[0] intercept   : AIC=1915.860, Time=0.03 sec\n",
            "\n",
            "Best model:  ARIMA(0,1,0)(0,0,0)[0]          \n",
            "Total fit time: 0.538 seconds\n"
          ]
        },
        {
          "name": "stderr",
          "output_type": "stream",
          "text": [
            "c:\\Users\\se99a\\anaconda3\\lib\\site-packages\\statsmodels\\tsa\\base\\tsa_model.py:834: ValueWarning: No supported index is available. Prediction results will be given with an integer index beginning at `start`.\n",
            "  return get_prediction_index(\n"
          ]
        },
        {
          "name": "stdout",
          "output_type": "stream",
          "text": [
            "Performing stepwise search to minimize aic\n",
            " ARIMA(2,1,2)(0,0,0)[0] intercept   : AIC=1425.138, Time=0.17 sec\n",
            " ARIMA(0,1,0)(0,0,0)[0] intercept   : AIC=1429.493, Time=0.01 sec\n",
            " ARIMA(1,1,0)(0,0,0)[0] intercept   : AIC=1428.394, Time=0.04 sec\n",
            " ARIMA(0,1,1)(0,0,0)[0] intercept   : AIC=1428.884, Time=0.05 sec\n",
            " ARIMA(0,1,0)(0,0,0)[0]             : AIC=1428.172, Time=0.01 sec\n",
            " ARIMA(1,1,2)(0,0,0)[0] intercept   : AIC=1430.749, Time=0.18 sec\n",
            " ARIMA(2,1,1)(0,0,0)[0] intercept   : AIC=1431.571, Time=0.15 sec\n",
            " ARIMA(3,1,2)(0,0,0)[0] intercept   : AIC=1427.117, Time=0.30 sec\n",
            " ARIMA(2,1,3)(0,0,0)[0] intercept   : AIC=1427.104, Time=0.32 sec\n",
            " ARIMA(1,1,1)(0,0,0)[0] intercept   : AIC=1430.044, Time=0.09 sec\n",
            " ARIMA(1,1,3)(0,0,0)[0] intercept   : AIC=1432.499, Time=0.18 sec\n",
            " ARIMA(3,1,1)(0,0,0)[0] intercept   : AIC=1432.437, Time=0.26 sec\n",
            " ARIMA(3,1,3)(0,0,0)[0] intercept   : AIC=1428.473, Time=0.33 sec\n",
            " ARIMA(2,1,2)(0,0,0)[0]             : AIC=1423.612, Time=0.18 sec\n",
            " ARIMA(1,1,2)(0,0,0)[0]             : AIC=1429.434, Time=0.08 sec\n",
            " ARIMA(2,1,1)(0,0,0)[0]             : AIC=1431.219, Time=0.13 sec\n",
            " ARIMA(3,1,2)(0,0,0)[0]             : AIC=1425.612, Time=0.22 sec\n",
            " ARIMA(2,1,3)(0,0,0)[0]             : AIC=1425.610, Time=0.26 sec\n",
            " ARIMA(1,1,1)(0,0,0)[0]             : AIC=1428.925, Time=0.10 sec\n",
            " ARIMA(1,1,3)(0,0,0)[0]             : AIC=1431.136, Time=0.12 sec\n",
            " ARIMA(3,1,1)(0,0,0)[0]             : AIC=1431.143, Time=0.10 sec\n",
            " ARIMA(3,1,3)(0,0,0)[0]             : AIC=1427.393, Time=0.33 sec\n",
            "\n",
            "Best model:  ARIMA(2,1,2)(0,0,0)[0]          \n",
            "Total fit time: 3.635 seconds\n"
          ]
        },
        {
          "name": "stderr",
          "output_type": "stream",
          "text": [
            "c:\\Users\\se99a\\anaconda3\\lib\\site-packages\\statsmodels\\tsa\\base\\tsa_model.py:834: ValueWarning: No supported index is available. Prediction results will be given with an integer index beginning at `start`.\n",
            "  return get_prediction_index(\n"
          ]
        }
      ],
      "source": [
        "from pmdarima.arima import auto_arima\n",
        "\n",
        "def autoarima(dataframe):\n",
        "    model = auto_arima(dataframe, trace=True, error_action='ignore', suppress_warnings=True)\n",
        "    model.fit(dataframe)\n",
        "    forecast = model.predict(n_periods=5)\n",
        "    return forecast\n",
        "       \n",
        "def predict(train_dataset, model):\n",
        "    predict = pd.DataFrame()\n",
        "    for i in range(len(train_dataset.columns)):\n",
        "        forecast = model(train_dataset.iloc[:,i])\n",
        "        predict[train_dataset.columns[i]] = forecast\n",
        "        \n",
        "    predict['Date'] = PREIDCTION_DATE\n",
        "    predict = predict[['Date',*COLUMNS_NAME]]\n",
        "    predict.index = list(range(0,5))\n",
        "    return predict\n",
        "\n",
        "predict = predict(train_dataset, autoarima)\n",
        "\n"
      ]
    },
    {
      "cell_type": "code",
      "execution_count": 76,
      "metadata": {},
      "outputs": [
        {
          "data": {
            "text/html": [
              "<div>\n",
              "<style scoped>\n",
              "    .dataframe tbody tr th:only-of-type {\n",
              "        vertical-align: middle;\n",
              "    }\n",
              "\n",
              "    .dataframe tbody tr th {\n",
              "        vertical-align: top;\n",
              "    }\n",
              "\n",
              "    .dataframe thead th {\n",
              "        text-align: right;\n",
              "    }\n",
              "</style>\n",
              "<table border=\"1\" class=\"dataframe\">\n",
              "  <thead>\n",
              "    <tr style=\"text-align: right;\">\n",
              "      <th></th>\n",
              "      <th>Date</th>\n",
              "      <th>삼성전자</th>\n",
              "      <th>카카오</th>\n",
              "      <th>하이브</th>\n",
              "      <th>더네이쳐홀딩스</th>\n",
              "      <th>코엔텍</th>\n",
              "    </tr>\n",
              "  </thead>\n",
              "  <tbody>\n",
              "    <tr>\n",
              "      <th>0</th>\n",
              "      <td>20230424</td>\n",
              "      <td>65700.0</td>\n",
              "      <td>57900.0</td>\n",
              "      <td>251075.630252</td>\n",
              "      <td>29150.0</td>\n",
              "      <td>7115.372602</td>\n",
              "    </tr>\n",
              "    <tr>\n",
              "      <th>1</th>\n",
              "      <td>20230425</td>\n",
              "      <td>65700.0</td>\n",
              "      <td>57900.0</td>\n",
              "      <td>252151.260504</td>\n",
              "      <td>29150.0</td>\n",
              "      <td>7109.583031</td>\n",
              "    </tr>\n",
              "    <tr>\n",
              "      <th>2</th>\n",
              "      <td>20230426</td>\n",
              "      <td>65700.0</td>\n",
              "      <td>57900.0</td>\n",
              "      <td>253226.890756</td>\n",
              "      <td>29150.0</td>\n",
              "      <td>7120.390948</td>\n",
              "    </tr>\n",
              "    <tr>\n",
              "      <th>3</th>\n",
              "      <td>20230427</td>\n",
              "      <td>65700.0</td>\n",
              "      <td>57900.0</td>\n",
              "      <td>254302.521008</td>\n",
              "      <td>29150.0</td>\n",
              "      <td>7113.845694</td>\n",
              "    </tr>\n",
              "    <tr>\n",
              "      <th>4</th>\n",
              "      <td>20230428</td>\n",
              "      <td>65700.0</td>\n",
              "      <td>57900.0</td>\n",
              "      <td>255378.151261</td>\n",
              "      <td>29150.0</td>\n",
              "      <td>7110.911119</td>\n",
              "    </tr>\n",
              "  </tbody>\n",
              "</table>\n",
              "</div>"
            ],
            "text/plain": [
              "       Date     삼성전자      카카오            하이브  더네이쳐홀딩스          코엔텍\n",
              "0  20230424  65700.0  57900.0  251075.630252  29150.0  7115.372602\n",
              "1  20230425  65700.0  57900.0  252151.260504  29150.0  7109.583031\n",
              "2  20230426  65700.0  57900.0  253226.890756  29150.0  7120.390948\n",
              "3  20230427  65700.0  57900.0  254302.521008  29150.0  7113.845694\n",
              "4  20230428  65700.0  57900.0  255378.151261  29150.0  7110.911119"
            ]
          },
          "execution_count": 76,
          "metadata": {},
          "output_type": "execute_result"
        }
      ],
      "source": [
        "predict"
      ]
    },
    {
      "attachments": {},
      "cell_type": "markdown",
      "metadata": {
        "id": "-EjXVXBD5RDs"
      },
      "source": [
        "## Test_Data_Loading"
      ]
    },
    {
      "cell_type": "code",
      "execution_count": 78,
      "metadata": {
        "id": "WlQWf4Pd5Hzs"
      },
      "outputs": [
        {
          "ename": "ConnectionError",
          "evalue": "HTTPSConnectionPool(host='fchart.stock.naver.com', port=443): Max retries exceeded with url: /sise.nhn?timeframe=day&count=6000&requestType=0&symbol=005930 (Caused by NewConnectionError('<urllib3.connection.HTTPSConnection object at 0x00000256AF75D390>: Failed to establish a new connection: [Errno 11001] getaddrinfo failed'))",
          "output_type": "error",
          "traceback": [
            "\u001b[1;31m---------------------------------------------------------------------------\u001b[0m",
            "\u001b[1;31mgaierror\u001b[0m                                  Traceback (most recent call last)",
            "File \u001b[1;32mc:\\Users\\se99a\\anaconda3\\lib\\site-packages\\urllib3\\connection.py:174\u001b[0m, in \u001b[0;36mHTTPConnection._new_conn\u001b[1;34m(self)\u001b[0m\n\u001b[0;32m    173\u001b[0m \u001b[39mtry\u001b[39;00m:\n\u001b[1;32m--> 174\u001b[0m     conn \u001b[39m=\u001b[39m connection\u001b[39m.\u001b[39mcreate_connection(\n\u001b[0;32m    175\u001b[0m         (\u001b[39mself\u001b[39m\u001b[39m.\u001b[39m_dns_host, \u001b[39mself\u001b[39m\u001b[39m.\u001b[39mport), \u001b[39mself\u001b[39m\u001b[39m.\u001b[39mtimeout, \u001b[39m*\u001b[39m\u001b[39m*\u001b[39mextra_kw\n\u001b[0;32m    176\u001b[0m     )\n\u001b[0;32m    178\u001b[0m \u001b[39mexcept\u001b[39;00m SocketTimeout:\n",
            "File \u001b[1;32mc:\\Users\\se99a\\anaconda3\\lib\\site-packages\\urllib3\\util\\connection.py:72\u001b[0m, in \u001b[0;36mcreate_connection\u001b[1;34m(address, timeout, source_address, socket_options)\u001b[0m\n\u001b[0;32m     68\u001b[0m     \u001b[39mreturn\u001b[39;00m six\u001b[39m.\u001b[39mraise_from(\n\u001b[0;32m     69\u001b[0m         LocationParseError(\u001b[39mu\u001b[39m\u001b[39m\"\u001b[39m\u001b[39m'\u001b[39m\u001b[39m%s\u001b[39;00m\u001b[39m'\u001b[39m\u001b[39m, label empty or too long\u001b[39m\u001b[39m\"\u001b[39m \u001b[39m%\u001b[39m host), \u001b[39mNone\u001b[39;00m\n\u001b[0;32m     70\u001b[0m     )\n\u001b[1;32m---> 72\u001b[0m \u001b[39mfor\u001b[39;00m res \u001b[39min\u001b[39;00m socket\u001b[39m.\u001b[39;49mgetaddrinfo(host, port, family, socket\u001b[39m.\u001b[39;49mSOCK_STREAM):\n\u001b[0;32m     73\u001b[0m     af, socktype, proto, canonname, sa \u001b[39m=\u001b[39m res\n",
            "File \u001b[1;32mc:\\Users\\se99a\\anaconda3\\lib\\socket.py:955\u001b[0m, in \u001b[0;36mgetaddrinfo\u001b[1;34m(host, port, family, type, proto, flags)\u001b[0m\n\u001b[0;32m    954\u001b[0m addrlist \u001b[39m=\u001b[39m []\n\u001b[1;32m--> 955\u001b[0m \u001b[39mfor\u001b[39;00m res \u001b[39min\u001b[39;00m _socket\u001b[39m.\u001b[39;49mgetaddrinfo(host, port, family, \u001b[39mtype\u001b[39;49m, proto, flags):\n\u001b[0;32m    956\u001b[0m     af, socktype, proto, canonname, sa \u001b[39m=\u001b[39m res\n",
            "\u001b[1;31mgaierror\u001b[0m: [Errno 11001] getaddrinfo failed",
            "\nDuring handling of the above exception, another exception occurred:\n",
            "\u001b[1;31mNewConnectionError\u001b[0m                        Traceback (most recent call last)",
            "File \u001b[1;32mc:\\Users\\se99a\\anaconda3\\lib\\site-packages\\urllib3\\connectionpool.py:703\u001b[0m, in \u001b[0;36mHTTPConnectionPool.urlopen\u001b[1;34m(self, method, url, body, headers, retries, redirect, assert_same_host, timeout, pool_timeout, release_conn, chunked, body_pos, **response_kw)\u001b[0m\n\u001b[0;32m    702\u001b[0m \u001b[39m# Make the request on the httplib connection object.\u001b[39;00m\n\u001b[1;32m--> 703\u001b[0m httplib_response \u001b[39m=\u001b[39m \u001b[39mself\u001b[39;49m\u001b[39m.\u001b[39;49m_make_request(\n\u001b[0;32m    704\u001b[0m     conn,\n\u001b[0;32m    705\u001b[0m     method,\n\u001b[0;32m    706\u001b[0m     url,\n\u001b[0;32m    707\u001b[0m     timeout\u001b[39m=\u001b[39;49mtimeout_obj,\n\u001b[0;32m    708\u001b[0m     body\u001b[39m=\u001b[39;49mbody,\n\u001b[0;32m    709\u001b[0m     headers\u001b[39m=\u001b[39;49mheaders,\n\u001b[0;32m    710\u001b[0m     chunked\u001b[39m=\u001b[39;49mchunked,\n\u001b[0;32m    711\u001b[0m )\n\u001b[0;32m    713\u001b[0m \u001b[39m# If we're going to release the connection in ``finally:``, then\u001b[39;00m\n\u001b[0;32m    714\u001b[0m \u001b[39m# the response doesn't need to know about the connection. Otherwise\u001b[39;00m\n\u001b[0;32m    715\u001b[0m \u001b[39m# it will also try to release it and we'll have a double-release\u001b[39;00m\n\u001b[0;32m    716\u001b[0m \u001b[39m# mess.\u001b[39;00m\n",
            "File \u001b[1;32mc:\\Users\\se99a\\anaconda3\\lib\\site-packages\\urllib3\\connectionpool.py:386\u001b[0m, in \u001b[0;36mHTTPConnectionPool._make_request\u001b[1;34m(self, conn, method, url, timeout, chunked, **httplib_request_kw)\u001b[0m\n\u001b[0;32m    385\u001b[0m \u001b[39mtry\u001b[39;00m:\n\u001b[1;32m--> 386\u001b[0m     \u001b[39mself\u001b[39;49m\u001b[39m.\u001b[39;49m_validate_conn(conn)\n\u001b[0;32m    387\u001b[0m \u001b[39mexcept\u001b[39;00m (SocketTimeout, BaseSSLError) \u001b[39mas\u001b[39;00m e:\n\u001b[0;32m    388\u001b[0m     \u001b[39m# Py2 raises this as a BaseSSLError, Py3 raises it as socket timeout.\u001b[39;00m\n",
            "File \u001b[1;32mc:\\Users\\se99a\\anaconda3\\lib\\site-packages\\urllib3\\connectionpool.py:1042\u001b[0m, in \u001b[0;36mHTTPSConnectionPool._validate_conn\u001b[1;34m(self, conn)\u001b[0m\n\u001b[0;32m   1041\u001b[0m \u001b[39mif\u001b[39;00m \u001b[39mnot\u001b[39;00m \u001b[39mgetattr\u001b[39m(conn, \u001b[39m\"\u001b[39m\u001b[39msock\u001b[39m\u001b[39m\"\u001b[39m, \u001b[39mNone\u001b[39;00m):  \u001b[39m# AppEngine might not have  `.sock`\u001b[39;00m\n\u001b[1;32m-> 1042\u001b[0m     conn\u001b[39m.\u001b[39;49mconnect()\n\u001b[0;32m   1044\u001b[0m \u001b[39mif\u001b[39;00m \u001b[39mnot\u001b[39;00m conn\u001b[39m.\u001b[39mis_verified:\n",
            "File \u001b[1;32mc:\\Users\\se99a\\anaconda3\\lib\\site-packages\\urllib3\\connection.py:358\u001b[0m, in \u001b[0;36mHTTPSConnection.connect\u001b[1;34m(self)\u001b[0m\n\u001b[0;32m    356\u001b[0m \u001b[39mdef\u001b[39;00m \u001b[39mconnect\u001b[39m(\u001b[39mself\u001b[39m):\n\u001b[0;32m    357\u001b[0m     \u001b[39m# Add certificate verification\u001b[39;00m\n\u001b[1;32m--> 358\u001b[0m     \u001b[39mself\u001b[39m\u001b[39m.\u001b[39msock \u001b[39m=\u001b[39m conn \u001b[39m=\u001b[39m \u001b[39mself\u001b[39;49m\u001b[39m.\u001b[39;49m_new_conn()\n\u001b[0;32m    359\u001b[0m     hostname \u001b[39m=\u001b[39m \u001b[39mself\u001b[39m\u001b[39m.\u001b[39mhost\n",
            "File \u001b[1;32mc:\\Users\\se99a\\anaconda3\\lib\\site-packages\\urllib3\\connection.py:186\u001b[0m, in \u001b[0;36mHTTPConnection._new_conn\u001b[1;34m(self)\u001b[0m\n\u001b[0;32m    185\u001b[0m \u001b[39mexcept\u001b[39;00m SocketError \u001b[39mas\u001b[39;00m e:\n\u001b[1;32m--> 186\u001b[0m     \u001b[39mraise\u001b[39;00m NewConnectionError(\n\u001b[0;32m    187\u001b[0m         \u001b[39mself\u001b[39m, \u001b[39m\"\u001b[39m\u001b[39mFailed to establish a new connection: \u001b[39m\u001b[39m%s\u001b[39;00m\u001b[39m\"\u001b[39m \u001b[39m%\u001b[39m e\n\u001b[0;32m    188\u001b[0m     )\n\u001b[0;32m    190\u001b[0m \u001b[39mreturn\u001b[39;00m conn\n",
            "\u001b[1;31mNewConnectionError\u001b[0m: <urllib3.connection.HTTPSConnection object at 0x00000256AF75D390>: Failed to establish a new connection: [Errno 11001] getaddrinfo failed",
            "\nDuring handling of the above exception, another exception occurred:\n",
            "\u001b[1;31mMaxRetryError\u001b[0m                             Traceback (most recent call last)",
            "File \u001b[1;32mc:\\Users\\se99a\\anaconda3\\lib\\site-packages\\requests\\adapters.py:489\u001b[0m, in \u001b[0;36mHTTPAdapter.send\u001b[1;34m(self, request, stream, timeout, verify, cert, proxies)\u001b[0m\n\u001b[0;32m    488\u001b[0m \u001b[39mif\u001b[39;00m \u001b[39mnot\u001b[39;00m chunked:\n\u001b[1;32m--> 489\u001b[0m     resp \u001b[39m=\u001b[39m conn\u001b[39m.\u001b[39;49murlopen(\n\u001b[0;32m    490\u001b[0m         method\u001b[39m=\u001b[39;49mrequest\u001b[39m.\u001b[39;49mmethod,\n\u001b[0;32m    491\u001b[0m         url\u001b[39m=\u001b[39;49murl,\n\u001b[0;32m    492\u001b[0m         body\u001b[39m=\u001b[39;49mrequest\u001b[39m.\u001b[39;49mbody,\n\u001b[0;32m    493\u001b[0m         headers\u001b[39m=\u001b[39;49mrequest\u001b[39m.\u001b[39;49mheaders,\n\u001b[0;32m    494\u001b[0m         redirect\u001b[39m=\u001b[39;49m\u001b[39mFalse\u001b[39;49;00m,\n\u001b[0;32m    495\u001b[0m         assert_same_host\u001b[39m=\u001b[39;49m\u001b[39mFalse\u001b[39;49;00m,\n\u001b[0;32m    496\u001b[0m         preload_content\u001b[39m=\u001b[39;49m\u001b[39mFalse\u001b[39;49;00m,\n\u001b[0;32m    497\u001b[0m         decode_content\u001b[39m=\u001b[39;49m\u001b[39mFalse\u001b[39;49;00m,\n\u001b[0;32m    498\u001b[0m         retries\u001b[39m=\u001b[39;49m\u001b[39mself\u001b[39;49m\u001b[39m.\u001b[39;49mmax_retries,\n\u001b[0;32m    499\u001b[0m         timeout\u001b[39m=\u001b[39;49mtimeout,\n\u001b[0;32m    500\u001b[0m     )\n\u001b[0;32m    502\u001b[0m \u001b[39m# Send the request.\u001b[39;00m\n\u001b[0;32m    503\u001b[0m \u001b[39melse\u001b[39;00m:\n",
            "File \u001b[1;32mc:\\Users\\se99a\\anaconda3\\lib\\site-packages\\urllib3\\connectionpool.py:787\u001b[0m, in \u001b[0;36mHTTPConnectionPool.urlopen\u001b[1;34m(self, method, url, body, headers, retries, redirect, assert_same_host, timeout, pool_timeout, release_conn, chunked, body_pos, **response_kw)\u001b[0m\n\u001b[0;32m    785\u001b[0m     e \u001b[39m=\u001b[39m ProtocolError(\u001b[39m\"\u001b[39m\u001b[39mConnection aborted.\u001b[39m\u001b[39m\"\u001b[39m, e)\n\u001b[1;32m--> 787\u001b[0m retries \u001b[39m=\u001b[39m retries\u001b[39m.\u001b[39;49mincrement(\n\u001b[0;32m    788\u001b[0m     method, url, error\u001b[39m=\u001b[39;49me, _pool\u001b[39m=\u001b[39;49m\u001b[39mself\u001b[39;49m, _stacktrace\u001b[39m=\u001b[39;49msys\u001b[39m.\u001b[39;49mexc_info()[\u001b[39m2\u001b[39;49m]\n\u001b[0;32m    789\u001b[0m )\n\u001b[0;32m    790\u001b[0m retries\u001b[39m.\u001b[39msleep()\n",
            "File \u001b[1;32mc:\\Users\\se99a\\anaconda3\\lib\\site-packages\\urllib3\\util\\retry.py:592\u001b[0m, in \u001b[0;36mRetry.increment\u001b[1;34m(self, method, url, response, error, _pool, _stacktrace)\u001b[0m\n\u001b[0;32m    591\u001b[0m \u001b[39mif\u001b[39;00m new_retry\u001b[39m.\u001b[39mis_exhausted():\n\u001b[1;32m--> 592\u001b[0m     \u001b[39mraise\u001b[39;00m MaxRetryError(_pool, url, error \u001b[39mor\u001b[39;00m ResponseError(cause))\n\u001b[0;32m    594\u001b[0m log\u001b[39m.\u001b[39mdebug(\u001b[39m\"\u001b[39m\u001b[39mIncremented Retry for (url=\u001b[39m\u001b[39m'\u001b[39m\u001b[39m%s\u001b[39;00m\u001b[39m'\u001b[39m\u001b[39m): \u001b[39m\u001b[39m%r\u001b[39;00m\u001b[39m\"\u001b[39m, url, new_retry)\n",
            "\u001b[1;31mMaxRetryError\u001b[0m: HTTPSConnectionPool(host='fchart.stock.naver.com', port=443): Max retries exceeded with url: /sise.nhn?timeframe=day&count=6000&requestType=0&symbol=005930 (Caused by NewConnectionError('<urllib3.connection.HTTPSConnection object at 0x00000256AF75D390>: Failed to establish a new connection: [Errno 11001] getaddrinfo failed'))",
            "\nDuring handling of the above exception, another exception occurred:\n",
            "\u001b[1;31mConnectionError\u001b[0m                           Traceback (most recent call last)",
            "Cell \u001b[1;32mIn[78], line 15\u001b[0m\n\u001b[0;32m     13\u001b[0m     submission[\u001b[39m'\u001b[39m\u001b[39mkoen_real\u001b[39m\u001b[39m'\u001b[39m] \u001b[39m=\u001b[39m stocks[\u001b[39m20\u001b[39m:\u001b[39m25\u001b[39m]\n\u001b[0;32m     14\u001b[0m     \u001b[39mreturn\u001b[39;00m submission\n\u001b[1;32m---> 15\u001b[0m submission \u001b[39m=\u001b[39m test_dataset_loading()\n",
            "Cell \u001b[1;32mIn[78], line 4\u001b[0m, in \u001b[0;36mtest_dataset_loading\u001b[1;34m()\u001b[0m\n\u001b[0;32m      2\u001b[0m stocks \u001b[39m=\u001b[39m []\n\u001b[0;32m      3\u001b[0m \u001b[39mfor\u001b[39;00m i \u001b[39min\u001b[39;00m [\u001b[39m'\u001b[39m\u001b[39m005930\u001b[39m\u001b[39m'\u001b[39m, \u001b[39m'\u001b[39m\u001b[39m035720\u001b[39m\u001b[39m'\u001b[39m, \u001b[39m'\u001b[39m\u001b[39m352820\u001b[39m\u001b[39m'\u001b[39m, \u001b[39m'\u001b[39m\u001b[39m298540\u001b[39m\u001b[39m'\u001b[39m, \u001b[39m'\u001b[39m\u001b[39m029960\u001b[39m\u001b[39m'\u001b[39m] : \n\u001b[1;32m----> 4\u001b[0m     stock \u001b[39m=\u001b[39m fdr\u001b[39m.\u001b[39;49mDataReader(i, \u001b[39m'\u001b[39;49m\u001b[39m2023-04-24\u001b[39;49m\u001b[39m'\u001b[39;49m, \u001b[39m'\u001b[39;49m\u001b[39m2023-04-28\u001b[39;49m\u001b[39m'\u001b[39;49m)\n\u001b[0;32m      5\u001b[0m     \u001b[39mfor\u001b[39;00m j \u001b[39min\u001b[39;00m \u001b[39mrange\u001b[39m(\u001b[39m5\u001b[39m) :\n\u001b[0;32m      6\u001b[0m         stocks\u001b[39m.\u001b[39mappend(stock[\u001b[39m'\u001b[39m\u001b[39mClose\u001b[39m\u001b[39m'\u001b[39m][j])\n",
            "File \u001b[1;32mc:\\Users\\se99a\\anaconda3\\lib\\site-packages\\FinanceDataReader\\data.py:48\u001b[0m, in \u001b[0;36mDataReader\u001b[1;34m(symbol, start, end, exchange, data_source)\u001b[0m\n\u001b[0;32m     45\u001b[0m \u001b[39m# KRX and Naver Finance\u001b[39;00m\n\u001b[0;32m     46\u001b[0m \u001b[39mif\u001b[39;00m (symbol[:\u001b[39m5\u001b[39m]\u001b[39m.\u001b[39misdigit() \u001b[39mand\u001b[39;00m exchange\u001b[39m==\u001b[39m\u001b[39mNone\u001b[39;00m) \u001b[39mor\u001b[39;00m \\\n\u001b[0;32m     47\u001b[0m    (symbol[:\u001b[39m5\u001b[39m]\u001b[39m.\u001b[39misdigit() \u001b[39mand\u001b[39;00m exchange \u001b[39mand\u001b[39;00m exchange\u001b[39m.\u001b[39mupper() \u001b[39m==\u001b[39m \u001b[39m'\u001b[39m\u001b[39mKRX\u001b[39m\u001b[39m'\u001b[39m):\n\u001b[1;32m---> 48\u001b[0m     \u001b[39mreturn\u001b[39;00m NaverDailyReader(symbol, start, end)\u001b[39m.\u001b[39;49mread()\n\u001b[0;32m     50\u001b[0m \u001b[39m# KRX-DELISTING\u001b[39;00m\n\u001b[0;32m     51\u001b[0m \u001b[39mif\u001b[39;00m (symbol[:\u001b[39m5\u001b[39m]\u001b[39m.\u001b[39misdigit() \u001b[39mand\u001b[39;00m exchange \u001b[39mand\u001b[39;00m exchange\u001b[39m.\u001b[39mupper() \u001b[39min\u001b[39;00m [\u001b[39m'\u001b[39m\u001b[39mKRX-DELISTING\u001b[39m\u001b[39m'\u001b[39m]):\n",
            "File \u001b[1;32mc:\\Users\\se99a\\anaconda3\\lib\\site-packages\\FinanceDataReader\\naver\\data.py:34\u001b[0m, in \u001b[0;36mNaverDailyReader.read\u001b[1;34m(self)\u001b[0m\n\u001b[0;32m     31\u001b[0m \u001b[39mdef\u001b[39;00m \u001b[39mread\u001b[39m(\u001b[39mself\u001b[39m):\n\u001b[0;32m     32\u001b[0m     \u001b[39m# single symbol\u001b[39;00m\n\u001b[0;32m     33\u001b[0m     \u001b[39mif\u001b[39;00m \u001b[39m'\u001b[39m\u001b[39m,\u001b[39m\u001b[39m'\u001b[39m \u001b[39mnot\u001b[39;00m \u001b[39min\u001b[39;00m \u001b[39mself\u001b[39m\u001b[39m.\u001b[39msymbol: \n\u001b[1;32m---> 34\u001b[0m         \u001b[39mreturn\u001b[39;00m _naver_data_reader(\u001b[39mself\u001b[39;49m\u001b[39m.\u001b[39;49msymbol, \u001b[39mself\u001b[39;49m\u001b[39m.\u001b[39;49mstart, \u001b[39mself\u001b[39;49m\u001b[39m.\u001b[39;49mend)\n\u001b[0;32m     36\u001b[0m     \u001b[39m# multiple symbols, merge close price data as columns\u001b[39;00m\n\u001b[0;32m     37\u001b[0m     sym_list \u001b[39m=\u001b[39m [s\u001b[39m.\u001b[39mstrip() \u001b[39mfor\u001b[39;00m s \u001b[39min\u001b[39;00m \u001b[39mself\u001b[39m\u001b[39m.\u001b[39msymbol\u001b[39m.\u001b[39msplit(\u001b[39m'\u001b[39m\u001b[39m,\u001b[39m\u001b[39m'\u001b[39m) \u001b[39mif\u001b[39;00m s]\n",
            "File \u001b[1;32mc:\\Users\\se99a\\anaconda3\\lib\\site-packages\\FinanceDataReader\\naver\\data.py:9\u001b[0m, in \u001b[0;36m_naver_data_reader\u001b[1;34m(symbol, start, end)\u001b[0m\n\u001b[0;32m      7\u001b[0m \u001b[39mdef\u001b[39;00m \u001b[39m_naver_data_reader\u001b[39m(symbol, start, end):\n\u001b[0;32m      8\u001b[0m     url \u001b[39m=\u001b[39m \u001b[39m'\u001b[39m\u001b[39mhttps://fchart.stock.naver.com/sise.nhn?timeframe=day&count=6000&requestType=0&symbol=\u001b[39m\u001b[39m'\u001b[39m\n\u001b[1;32m----> 9\u001b[0m     r \u001b[39m=\u001b[39m requests\u001b[39m.\u001b[39;49mget(url \u001b[39m+\u001b[39;49m symbol)\n\u001b[0;32m     11\u001b[0m     data_list \u001b[39m=\u001b[39m re\u001b[39m.\u001b[39mfindall(\u001b[39m'\u001b[39m\u001b[39m<item data=\u001b[39m\u001b[39m\\\"\u001b[39;00m\u001b[39m(.*?)\u001b[39m\u001b[39m\\\"\u001b[39;00m\u001b[39m />\u001b[39m\u001b[39m'\u001b[39m, r\u001b[39m.\u001b[39mtext, re\u001b[39m.\u001b[39mDOTALL)\n\u001b[0;32m     12\u001b[0m     \u001b[39mif\u001b[39;00m \u001b[39mlen\u001b[39m(data_list) \u001b[39m==\u001b[39m \u001b[39m0\u001b[39m:\n",
            "File \u001b[1;32mc:\\Users\\se99a\\anaconda3\\lib\\site-packages\\requests\\api.py:73\u001b[0m, in \u001b[0;36mget\u001b[1;34m(url, params, **kwargs)\u001b[0m\n\u001b[0;32m     62\u001b[0m \u001b[39mdef\u001b[39;00m \u001b[39mget\u001b[39m(url, params\u001b[39m=\u001b[39m\u001b[39mNone\u001b[39;00m, \u001b[39m*\u001b[39m\u001b[39m*\u001b[39mkwargs):\n\u001b[0;32m     63\u001b[0m \u001b[39m    \u001b[39m\u001b[39mr\u001b[39m\u001b[39m\"\"\"Sends a GET request.\u001b[39;00m\n\u001b[0;32m     64\u001b[0m \n\u001b[0;32m     65\u001b[0m \u001b[39m    :param url: URL for the new :class:`Request` object.\u001b[39;00m\n\u001b[1;32m   (...)\u001b[0m\n\u001b[0;32m     70\u001b[0m \u001b[39m    :rtype: requests.Response\u001b[39;00m\n\u001b[0;32m     71\u001b[0m \u001b[39m    \"\"\"\u001b[39;00m\n\u001b[1;32m---> 73\u001b[0m     \u001b[39mreturn\u001b[39;00m request(\u001b[39m\"\u001b[39m\u001b[39mget\u001b[39m\u001b[39m\"\u001b[39m, url, params\u001b[39m=\u001b[39mparams, \u001b[39m*\u001b[39m\u001b[39m*\u001b[39mkwargs)\n",
            "File \u001b[1;32mc:\\Users\\se99a\\anaconda3\\lib\\site-packages\\requests\\api.py:59\u001b[0m, in \u001b[0;36mrequest\u001b[1;34m(method, url, **kwargs)\u001b[0m\n\u001b[0;32m     55\u001b[0m \u001b[39m# By using the 'with' statement we are sure the session is closed, thus we\u001b[39;00m\n\u001b[0;32m     56\u001b[0m \u001b[39m# avoid leaving sockets open which can trigger a ResourceWarning in some\u001b[39;00m\n\u001b[0;32m     57\u001b[0m \u001b[39m# cases, and look like a memory leak in others.\u001b[39;00m\n\u001b[0;32m     58\u001b[0m \u001b[39mwith\u001b[39;00m sessions\u001b[39m.\u001b[39mSession() \u001b[39mas\u001b[39;00m session:\n\u001b[1;32m---> 59\u001b[0m     \u001b[39mreturn\u001b[39;00m session\u001b[39m.\u001b[39mrequest(method\u001b[39m=\u001b[39mmethod, url\u001b[39m=\u001b[39murl, \u001b[39m*\u001b[39m\u001b[39m*\u001b[39mkwargs)\n",
            "File \u001b[1;32mc:\\Users\\se99a\\anaconda3\\lib\\site-packages\\requests\\sessions.py:587\u001b[0m, in \u001b[0;36mSession.request\u001b[1;34m(self, method, url, params, data, headers, cookies, files, auth, timeout, allow_redirects, proxies, hooks, stream, verify, cert, json)\u001b[0m\n\u001b[0;32m    582\u001b[0m send_kwargs \u001b[39m=\u001b[39m {\n\u001b[0;32m    583\u001b[0m     \u001b[39m\"\u001b[39m\u001b[39mtimeout\u001b[39m\u001b[39m\"\u001b[39m: timeout,\n\u001b[0;32m    584\u001b[0m     \u001b[39m\"\u001b[39m\u001b[39mallow_redirects\u001b[39m\u001b[39m\"\u001b[39m: allow_redirects,\n\u001b[0;32m    585\u001b[0m }\n\u001b[0;32m    586\u001b[0m send_kwargs\u001b[39m.\u001b[39mupdate(settings)\n\u001b[1;32m--> 587\u001b[0m resp \u001b[39m=\u001b[39m \u001b[39mself\u001b[39m\u001b[39m.\u001b[39msend(prep, \u001b[39m*\u001b[39m\u001b[39m*\u001b[39msend_kwargs)\n\u001b[0;32m    589\u001b[0m \u001b[39mreturn\u001b[39;00m resp\n",
            "File \u001b[1;32mc:\\Users\\se99a\\anaconda3\\lib\\site-packages\\requests\\sessions.py:701\u001b[0m, in \u001b[0;36mSession.send\u001b[1;34m(self, request, **kwargs)\u001b[0m\n\u001b[0;32m    698\u001b[0m start \u001b[39m=\u001b[39m preferred_clock()\n\u001b[0;32m    700\u001b[0m \u001b[39m# Send the request\u001b[39;00m\n\u001b[1;32m--> 701\u001b[0m r \u001b[39m=\u001b[39m adapter\u001b[39m.\u001b[39msend(request, \u001b[39m*\u001b[39m\u001b[39m*\u001b[39mkwargs)\n\u001b[0;32m    703\u001b[0m \u001b[39m# Total elapsed time of the request (approximately)\u001b[39;00m\n\u001b[0;32m    704\u001b[0m elapsed \u001b[39m=\u001b[39m preferred_clock() \u001b[39m-\u001b[39m start\n",
            "File \u001b[1;32mc:\\Users\\se99a\\anaconda3\\lib\\site-packages\\requests\\adapters.py:565\u001b[0m, in \u001b[0;36mHTTPAdapter.send\u001b[1;34m(self, request, stream, timeout, verify, cert, proxies)\u001b[0m\n\u001b[0;32m    561\u001b[0m     \u001b[39mif\u001b[39;00m \u001b[39misinstance\u001b[39m(e\u001b[39m.\u001b[39mreason, _SSLError):\n\u001b[0;32m    562\u001b[0m         \u001b[39m# This branch is for urllib3 v1.22 and later.\u001b[39;00m\n\u001b[0;32m    563\u001b[0m         \u001b[39mraise\u001b[39;00m SSLError(e, request\u001b[39m=\u001b[39mrequest)\n\u001b[1;32m--> 565\u001b[0m     \u001b[39mraise\u001b[39;00m \u001b[39mConnectionError\u001b[39;00m(e, request\u001b[39m=\u001b[39mrequest)\n\u001b[0;32m    567\u001b[0m \u001b[39mexcept\u001b[39;00m ClosedPoolError \u001b[39mas\u001b[39;00m e:\n\u001b[0;32m    568\u001b[0m     \u001b[39mraise\u001b[39;00m \u001b[39mConnectionError\u001b[39;00m(e, request\u001b[39m=\u001b[39mrequest)\n",
            "\u001b[1;31mConnectionError\u001b[0m: HTTPSConnectionPool(host='fchart.stock.naver.com', port=443): Max retries exceeded with url: /sise.nhn?timeframe=day&count=6000&requestType=0&symbol=005930 (Caused by NewConnectionError('<urllib3.connection.HTTPSConnection object at 0x00000256AF75D390>: Failed to establish a new connection: [Errno 11001] getaddrinfo failed'))"
          ]
        }
      ],
      "source": [
        "def test_dataset_loading ():\n",
        "    stocks = []\n",
        "    for i in ['005930', '035720', '352820', '298540', '029960'] : \n",
        "        stock = fdr.DataReader(i, '2023-04-24', '2023-04-28')\n",
        "        for j in range(5) :\n",
        "            stocks.append(stock['Close'][j])\n",
        "    submission = pd.DataFrame()\n",
        "    submission['Date'] = PREIDCTION_DATE\n",
        "    submission['samsung_real'] = stocks[:5]\n",
        "    submission['kakao_real'] = stocks[5:10]\n",
        "    submission['hive_real'] = stocks[10:15]\n",
        "    submission['nature_real'] = stocks[15:20]\n",
        "    submission['koen_real'] = stocks[20:25]\n",
        "    return submission\n",
        "submission = test_dataset_loading()"
      ]
    },
    {
      "cell_type": "code",
      "execution_count": null,
      "metadata": {
        "colab": {
          "base_uri": "https://localhost:8080/"
        },
        "id": "C-HlGZ_l_CkK",
        "outputId": "70ceedbf-9374-4954-eef2-866e82a45459"
      },
      "outputs": [
        {
          "data": {
            "text/plain": [
              "2.3663644181377603"
            ]
          },
          "execution_count": 62,
          "metadata": {},
          "output_type": "execute_result"
        }
      ],
      "source": [
        "# 오른쪽 항은 예측값을 넣으시면 됩니다!\n",
        "## 아래의 오른쪽 항은 산식 산출 확인을 위해 임의로 넣은 값입니다!\n",
        "\n",
        "def submission_prediction(submission, predict):\n",
        "    submission['samsung_forecast'] = predict['삼성전자']\n",
        "    submission['kakao_forecast'] = predict['카카오']\n",
        "    submission['hive_forecast'] = predict['하이브']\n",
        "    submission['nature_forecast'] = predict['더네이쳐홀딩스']\n",
        "    submission['koen_forecast'] = predict['코엔텍']\n",
        "    return submission\n",
        "\n",
        "submission = submission_prediction(submission, predict)\n",
        "## 이 아래는 수정 사항 없습니다.\n",
        "\n",
        "def final_score(submission):\n",
        "    a = np.sum(np.abs(submission['samsung_real']-submission['samsung_forecast']))/np.sum(submission['samsung_real'])\n",
        "    b = np.sum(np.abs(submission['kakao_real']-submission['kakao_forecast']))/np.sum(submission['kakao_real'])\n",
        "    c = np.sum(np.abs(submission['hive_real']-submission['hive_forecast']))/np.sum(submission['hive_real'])\n",
        "    d = np.sum(np.abs(submission['nature_real']-submission['nature_forecast']))/np.sum(submission['nature_real'])\n",
        "    e = np.sum(np.abs(submission['koen_real']-submission['koen_forecast']))/np.sum(submission['koen_real'])\n",
        "\n",
        "    final_score = np.mean([a,b,c,d,e]) * 100\n",
        "    return final_score\n",
        "\n",
        "final_score(submission)"
      ]
    },
    {
      "cell_type": "code",
      "execution_count": null,
      "metadata": {},
      "outputs": [],
      "source": []
    },
    {
      "cell_type": "code",
      "execution_count": null,
      "metadata": {},
      "outputs": [],
      "source": []
    }
  ],
  "metadata": {
    "colab": {
      "include_colab_link": true,
      "provenance": []
    },
    "kernelspec": {
      "display_name": "Python 3",
      "name": "python3"
    },
    "language_info": {
      "codemirror_mode": {
        "name": "ipython",
        "version": 3
      },
      "file_extension": ".py",
      "mimetype": "text/x-python",
      "name": "python",
      "nbconvert_exporter": "python",
      "pygments_lexer": "ipython3",
      "version": "3.10.9"
    }
  },
  "nbformat": 4,
  "nbformat_minor": 0
}
